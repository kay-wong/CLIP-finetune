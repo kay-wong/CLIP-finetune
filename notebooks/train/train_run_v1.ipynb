{
 "cells": [
  {
   "cell_type": "code",
   "execution_count": 1,
   "id": "4d4433be",
   "metadata": {},
   "outputs": [
    {
     "name": "stdout",
     "output_type": "stream",
     "text": [
      "True\n",
      "[StreamExecutorGpuDevice(id=0, process_index=0, slice_index=0)]\n"
     ]
    }
   ],
   "source": [
    "import torch, jax; print(torch.cuda.is_available()); print(jax.devices())"
   ]
  },
  {
   "cell_type": "code",
   "execution_count": null,
   "id": "1568ffe0",
   "metadata": {},
   "outputs": [],
   "source": [
    "PROJ_DIR = '/home/ubuntu/work/CLIP/'\n",
    "SCRIPT_DIR= PROJ_DIR + \"hybrid_clip\"\n",
    "MODEL_DIR= PROJ_DIR + \"models/clip-train-v1\"\n",
    "TRAIN_FILE= PROJ_DIR + \"data/clip_data_v1/train_v1_700k_aws.json\"\n",
    "VALID_FILE= PROJ_DIR + \"data/clip_data_v1/valid_v1_60k_aws.json\"\n",
    "IMAGE_ENCODER= \"openai/clip-vit-base-patch32\"\n",
    "TEXT_ENCODER=\"cardiffnlp/twitter-roberta-base-jun2022\""
   ]
  },
  {
   "cell_type": "markdown",
   "id": "57401986",
   "metadata": {},
   "source": [
    "### Epoch 1-15"
   ]
  },
  {
   "cell_type": "code",
   "execution_count": null,
   "id": "9c880ef7",
   "metadata": {},
   "outputs": [],
   "source": [
    "!python3 -W ignore $PROJ_DIR/run_hybrid_clip.py \\\n",
    "    --output_dir $MODEL_DIR \\\n",
    "    --overwrite_output_dir \\\n",
    "    --tokenizer_name=$TEXT_ENCODER \\\n",
    "    --train_file=$TRAIN_FILE \\\n",
    "    --validation_file=$VALID_FILE \\\n",
    "    --do_train --do_eval \\\n",
    "    --num_train_epochs=\"15\" --max_seq_length 24 \\\n",
    "    --per_device_train_batch_size=\"128\" \\\n",
    "    --per_device_eval_batch_size=\"128\" \\\n",
    "    --learning_rate=\"0.0001\" --warmup_ratio 0.1 --weight_decay 0.0 \\\n",
    "    --preprocessing_num_workers 8 \\\n",
    "    --exp_name clip_finetune \\\n",
    "    --eval_when 1 \\\n",
    "    --text_model_name_or_path=$TEXT_ENCODER \\\n",
    "    --vision_model_name_or_path=$IMAGE_ENCODER \\\n",
    "    --freeze_backbones\n",
    "    #--epoch_offset 44 \\\n",
    "    #--run_from_checkpoint $FROM_CHECKPOINT\n"
   ]
  },
  {
   "cell_type": "markdown",
   "id": "a545c9b6",
   "metadata": {},
   "source": [
    "## Epoch 15-23"
   ]
  },
  {
   "cell_type": "code",
   "execution_count": null,
   "id": "f83af5d0",
   "metadata": {},
   "outputs": [],
   "source": [
    "# Plateaud...\n",
    "!python3 -W ignore $PROJ_DIR/run_hybrid_clip.py \\\n",
    "    --output_dir $MODEL_DIR \\\n",
    "    --overwrite_output_dir \\\n",
    "    --tokenizer_name=$TEXT_ENCODER \\\n",
    "    --train_file=$TRAIN_FILE \\\n",
    "    --validation_file=$VALID_FILE \\\n",
    "    --do_train --do_eval \\\n",
    "    --num_train_epochs=\"35\" --max_seq_length 24 \\\n",
    "    --per_device_train_batch_size=\"128\" \\\n",
    "    --per_device_eval_batch_size=\"128\" \\\n",
    "    --learning_rate=\"0.0000015\" --warmup_ratio 0.025 --weight_decay 0.0 \\\n",
    "    --preprocessing_num_workers 8 \\\n",
    "    --exp_name clip_finetune \\\n",
    "    --eval_when 1 \\\n",
    "    --text_model_name_or_path=$TEXT_ENCODER \\\n",
    "    --vision_model_name_or_path=$IMAGE_ENCODER \\\n",
    "    --freeze_backbones \\\n",
    "    --epoch_offset 15 \\ \n",
    "    --run_from_checkpoint $FROM_CHECKPOINT\n"
   ]
  },
  {
   "cell_type": "markdown",
   "id": "ba616166",
   "metadata": {},
   "source": [
    "### Unfreeze Epochs 23 - "
   ]
  },
  {
   "cell_type": "code",
   "execution_count": null,
   "id": "b6c86886",
   "metadata": {},
   "outputs": [],
   "source": [
    "FROM_CHECKPOINT = MODEL_DIR + \"/23\"\n",
    "\n",
    "!python3 -W ignore $PROJ_DIR/run_hybrid_clip.py \\\n",
    "    --output_dir $MODEL_DIR \\\n",
    "    --overwrite_output_dir \\\n",
    "    --tokenizer_name=$TEXT_ENCODER \\\n",
    "    --train_file=$TRAIN_FILE \\\n",
    "    --validation_file=$VALID_FILE \\\n",
    "    --do_train --do_eval \\\n",
    "    --num_train_epochs=\"30\" --max_seq_length 24 \\\n",
    "    --per_device_train_batch_size=\"128\" \\\n",
    "    --per_device_eval_batch_size=\"128\" \\\n",
    "    --learning_rate=\"0.0001\" --warmup_ratio 0.01 --weight_decay 0.0 \\\n",
    "    --preprocessing_num_workers 8 \\\n",
    "    --exp_name clip_finetune \\\n",
    "    --eval_when 1 \\\n",
    "    --text_model_name_or_path=$TEXT_ENCODER \\\n",
    "    --vision_model_name_or_path=$IMAGE_ENCODER \\\n",
    "    --epoch_offset 23 \\\n",
    "    --run_from_checkpoint $FROM_CHECKPOINT"
   ]
  }
 ],
 "metadata": {
  "kernelspec": {
   "display_name": "Python 3 (ipykernel)",
   "language": "python",
   "name": "python3"
  },
  "language_info": {
   "codemirror_mode": {
    "name": "ipython",
    "version": 3
   },
   "file_extension": ".py",
   "mimetype": "text/x-python",
   "name": "python",
   "nbconvert_exporter": "python",
   "pygments_lexer": "ipython3",
   "version": "3.8.10"
  }
 },
 "nbformat": 4,
 "nbformat_minor": 5
}
